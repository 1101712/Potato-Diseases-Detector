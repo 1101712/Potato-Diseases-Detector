{
  "cells": [
    {
      "cell_type": "markdown",
      "metadata": {
        "id": "0aStgWSO0E0E"
      },
      "source": [
        "# **Data Collection**"
      ]
    },
    {
      "cell_type": "markdown",
      "metadata": {
        "id": "1eLEkw5O0ECa"
      },
      "source": [
        "## Objectives\n",
        "\n",
        "- Import necessary Python libraries, including numpy for numerical operations, pandas for data handling, matplotlib and seaborn for plotting, plotly for interactive visualizations, and streamlit for web app development. Also, include machine learning packages like scikit-learn for modeling, and tensorflow-cpu with keras for neural network implementations\n",
        "- Set working directory  to ensure proper access to data files\n",
        "- Fetch data from Kaggle\n",
        "- Unzip the dataset\n",
        "- Load th image data into a suitable structure\n",
        "- Consider resizing the images to a uniform size if they vary in dimensions\n",
        "- Assessment and Handling of Corrupt or Missing Data\n",
        "- Normalize the pixel values of the images for better performance of machine learning models\n",
        "- Perform any additional preprocessing needed, such as image augmentation, to improve the model's ability to generalize.\n",
        "- Split the dataset into training, validation, and test sets\n",
        "- Ensure that the split is stratified if the dataset is imbalanced, meaning each set should have a representative distribution of each class\n",
        "- Ensure to document each step of the project's development process\n",
        "\n",
        "\n",
        "## Inputs\n",
        "\n",
        "- Kaggle authentication token (kaggle.json) for acces to datasets on Kaggle\n",
        "\n",
        "## Outputs  \n",
        "\n",
        "         .\n",
        "         ├── inputs   \n",
        "         │   └──datasets_devided\n",
        "         │      └──potatoe  \n",
        "         │           ├── test  \n",
        "         │           │   ├── healthy  \n",
        "         │           │   ├── Black_Scurf  \n",
        "         │           │   ├── Blackleg  \n",
        "         │           │   ├── Common_Scab  \n",
        "         │           │   ├── Dry_Rot  \n",
        "         │           │   └── Pink_Rot\n",
        "         │           ├── train\n",
        "         │           │   ├── healthy  \n",
        "         │           │   ├── Black_Scurf  \n",
        "         │           │   ├── Blackleg  \n",
        "         │           │   ├── Common_Scab  \n",
        "         │           │   ├── Dry_Rot  \n",
        "         │           │   └── Pink_Rot\n",
        "         │           └── validation\n",
        "         │               ├── healthy  \n",
        "         │               ├── Black_Scurf  \n",
        "         │               ├── Blackleg  \n",
        "         │               ├── Common_Scab  \n",
        "         │               ├── Dry_Rot  \n",
        "         │               ├── Pink_Rot \n",
        "         │               └── Miscellaneous  \n",
        "         └── ...\n",
        "\n",
        "## Additional Comments\n",
        "\n",
        "- Next step will be Data Visualization to understand the data and discover patterns. \n",
        "\n"
      ]
    },
    {
      "cell_type": "markdown",
      "metadata": {
        "id": "9uWZXH9LwoQg"
      },
      "source": [
        "---"
      ]
    },
    {
      "cell_type": "markdown",
      "metadata": {},
      "source": [
        "# Import Packages"
      ]
    },
    {
      "cell_type": "code",
      "execution_count": 1,
      "metadata": {},
      "outputs": [
        {
          "name": "stdout",
          "output_type": "stream",
          "text": [
            "Defaulting to user installation because normal site-packages is not writeable\n",
            "Requirement already satisfied: numpy in /workspace/.pyenv_mirror/user/current/lib/python3.10/site-packages (from -r /workspace/Potato-Diseases-Detector/requirements.txt (line 1)) (1.26.2)\n",
            "Requirement already satisfied: pandas in /workspace/.pyenv_mirror/user/current/lib/python3.10/site-packages (from -r /workspace/Potato-Diseases-Detector/requirements.txt (line 2)) (2.1.4)\n",
            "Requirement already satisfied: matplotlib in /workspace/.pyenv_mirror/user/current/lib/python3.10/site-packages (from -r /workspace/Potato-Diseases-Detector/requirements.txt (line 3)) (3.8.2)\n",
            "Requirement already satisfied: seaborn in /workspace/.pyenv_mirror/user/current/lib/python3.10/site-packages (from -r /workspace/Potato-Diseases-Detector/requirements.txt (line 4)) (0.13.0)\n",
            "Requirement already satisfied: plotly in /workspace/.pyenv_mirror/user/current/lib/python3.10/site-packages (from -r /workspace/Potato-Diseases-Detector/requirements.txt (line 5)) (5.18.0)\n",
            "Requirement already satisfied: streamlit in /workspace/.pyenv_mirror/user/current/lib/python3.10/site-packages (from -r /workspace/Potato-Diseases-Detector/requirements.txt (line 6)) (1.29.0)\n",
            "Requirement already satisfied: scikit-learn in /workspace/.pyenv_mirror/user/current/lib/python3.10/site-packages (from -r /workspace/Potato-Diseases-Detector/requirements.txt (line 7)) (1.3.2)\n",
            "Requirement already satisfied: tensorflow-cpu in /workspace/.pyenv_mirror/user/current/lib/python3.10/site-packages (from -r /workspace/Potato-Diseases-Detector/requirements.txt (line 8)) (2.15.0.post1)\n",
            "Requirement already satisfied: keras in /workspace/.pyenv_mirror/user/current/lib/python3.10/site-packages (from -r /workspace/Potato-Diseases-Detector/requirements.txt (line 9)) (2.15.0)\n",
            "Requirement already satisfied: tzdata>=2022.1 in /workspace/.pyenv_mirror/user/current/lib/python3.10/site-packages (from pandas->-r /workspace/Potato-Diseases-Detector/requirements.txt (line 2)) (2023.3)\n",
            "Requirement already satisfied: python-dateutil>=2.8.2 in /workspace/.pyenv_mirror/user/current/lib/python3.10/site-packages (from pandas->-r /workspace/Potato-Diseases-Detector/requirements.txt (line 2)) (2.8.2)\n",
            "Requirement already satisfied: pytz>=2020.1 in /workspace/.pyenv_mirror/user/current/lib/python3.10/site-packages (from pandas->-r /workspace/Potato-Diseases-Detector/requirements.txt (line 2)) (2023.3.post1)\n",
            "Requirement already satisfied: pillow>=8 in /workspace/.pyenv_mirror/user/current/lib/python3.10/site-packages (from matplotlib->-r /workspace/Potato-Diseases-Detector/requirements.txt (line 3)) (10.1.0)\n",
            "Requirement already satisfied: packaging>=20.0 in /workspace/.pyenv_mirror/user/current/lib/python3.10/site-packages (from matplotlib->-r /workspace/Potato-Diseases-Detector/requirements.txt (line 3)) (23.2)\n",
            "Requirement already satisfied: contourpy>=1.0.1 in /workspace/.pyenv_mirror/user/current/lib/python3.10/site-packages (from matplotlib->-r /workspace/Potato-Diseases-Detector/requirements.txt (line 3)) (1.2.0)\n",
            "Requirement already satisfied: pyparsing>=2.3.1 in /usr/lib/python3/dist-packages (from matplotlib->-r /workspace/Potato-Diseases-Detector/requirements.txt (line 3)) (2.4.7)\n",
            "Requirement already satisfied: fonttools>=4.22.0 in /workspace/.pyenv_mirror/user/current/lib/python3.10/site-packages (from matplotlib->-r /workspace/Potato-Diseases-Detector/requirements.txt (line 3)) (4.47.0)\n",
            "Requirement already satisfied: cycler>=0.10 in /workspace/.pyenv_mirror/user/current/lib/python3.10/site-packages (from matplotlib->-r /workspace/Potato-Diseases-Detector/requirements.txt (line 3)) (0.12.1)\n",
            "Requirement already satisfied: kiwisolver>=1.3.1 in /workspace/.pyenv_mirror/user/current/lib/python3.10/site-packages (from matplotlib->-r /workspace/Potato-Diseases-Detector/requirements.txt (line 3)) (1.4.5)\n",
            "Requirement already satisfied: tenacity>=6.2.0 in /workspace/.pyenv_mirror/user/current/lib/python3.10/site-packages (from plotly->-r /workspace/Potato-Diseases-Detector/requirements.txt (line 5)) (8.2.3)\n",
            "Requirement already satisfied: click<9,>=7.0 in /workspace/.pyenv_mirror/user/current/lib/python3.10/site-packages (from streamlit->-r /workspace/Potato-Diseases-Detector/requirements.txt (line 6)) (8.1.7)\n",
            "Requirement already satisfied: typing-extensions<5,>=4.3.0 in /workspace/.pyenv_mirror/user/current/lib/python3.10/site-packages (from streamlit->-r /workspace/Potato-Diseases-Detector/requirements.txt (line 6)) (4.9.0)\n",
            "Requirement already satisfied: watchdog>=2.1.5 in /workspace/.pyenv_mirror/user/current/lib/python3.10/site-packages (from streamlit->-r /workspace/Potato-Diseases-Detector/requirements.txt (line 6)) (3.0.0)\n",
            "Requirement already satisfied: validators<1,>=0.2 in /workspace/.pyenv_mirror/user/current/lib/python3.10/site-packages (from streamlit->-r /workspace/Potato-Diseases-Detector/requirements.txt (line 6)) (0.22.0)\n",
            "Requirement already satisfied: rich<14,>=10.14.0 in /workspace/.pyenv_mirror/user/current/lib/python3.10/site-packages (from streamlit->-r /workspace/Potato-Diseases-Detector/requirements.txt (line 6)) (13.7.0)\n",
            "Requirement already satisfied: tornado<7,>=6.0.3 in /workspace/.pyenv_mirror/user/current/lib/python3.10/site-packages (from streamlit->-r /workspace/Potato-Diseases-Detector/requirements.txt (line 6)) (6.4)\n",
            "Requirement already satisfied: blinker<2,>=1.0.0 in /usr/lib/python3/dist-packages (from streamlit->-r /workspace/Potato-Diseases-Detector/requirements.txt (line 6)) (1.4)\n",
            "Requirement already satisfied: importlib-metadata<7,>=1.4 in /usr/lib/python3/dist-packages (from streamlit->-r /workspace/Potato-Diseases-Detector/requirements.txt (line 6)) (4.6.4)\n",
            "Requirement already satisfied: protobuf<5,>=3.20 in /workspace/.pyenv_mirror/user/current/lib/python3.10/site-packages (from streamlit->-r /workspace/Potato-Diseases-Detector/requirements.txt (line 6)) (4.23.4)\n",
            "Requirement already satisfied: altair<6,>=4.0 in /workspace/.pyenv_mirror/user/current/lib/python3.10/site-packages (from streamlit->-r /workspace/Potato-Diseases-Detector/requirements.txt (line 6)) (5.2.0)\n",
            "Requirement already satisfied: pyarrow>=6.0 in /workspace/.pyenv_mirror/user/current/lib/python3.10/site-packages (from streamlit->-r /workspace/Potato-Diseases-Detector/requirements.txt (line 6)) (14.0.2)\n",
            "Requirement already satisfied: requests<3,>=2.27 in /workspace/.pyenv_mirror/user/current/lib/python3.10/site-packages (from streamlit->-r /workspace/Potato-Diseases-Detector/requirements.txt (line 6)) (2.31.0)\n",
            "Requirement already satisfied: gitpython!=3.1.19,<4,>=3.0.7 in /workspace/.pyenv_mirror/user/current/lib/python3.10/site-packages (from streamlit->-r /workspace/Potato-Diseases-Detector/requirements.txt (line 6)) (3.1.40)\n",
            "Requirement already satisfied: pydeck<1,>=0.8.0b4 in /workspace/.pyenv_mirror/user/current/lib/python3.10/site-packages (from streamlit->-r /workspace/Potato-Diseases-Detector/requirements.txt (line 6)) (0.8.1b0)\n",
            "Requirement already satisfied: toml<2,>=0.10.1 in /workspace/.pyenv_mirror/user/current/lib/python3.10/site-packages (from streamlit->-r /workspace/Potato-Diseases-Detector/requirements.txt (line 6)) (0.10.2)\n",
            "Requirement already satisfied: cachetools<6,>=4.0 in /workspace/.pyenv_mirror/user/current/lib/python3.10/site-packages (from streamlit->-r /workspace/Potato-Diseases-Detector/requirements.txt (line 6)) (5.3.2)\n",
            "Requirement already satisfied: tzlocal<6,>=1.1 in /workspace/.pyenv_mirror/user/current/lib/python3.10/site-packages (from streamlit->-r /workspace/Potato-Diseases-Detector/requirements.txt (line 6)) (5.2)\n",
            "Requirement already satisfied: threadpoolctl>=2.0.0 in /workspace/.pyenv_mirror/user/current/lib/python3.10/site-packages (from scikit-learn->-r /workspace/Potato-Diseases-Detector/requirements.txt (line 7)) (3.2.0)\n",
            "Requirement already satisfied: scipy>=1.5.0 in /workspace/.pyenv_mirror/user/current/lib/python3.10/site-packages (from scikit-learn->-r /workspace/Potato-Diseases-Detector/requirements.txt (line 7)) (1.11.4)\n",
            "Requirement already satisfied: joblib>=1.1.1 in /workspace/.pyenv_mirror/user/current/lib/python3.10/site-packages (from scikit-learn->-r /workspace/Potato-Diseases-Detector/requirements.txt (line 7)) (1.3.2)\n",
            "Requirement already satisfied: ml-dtypes~=0.2.0 in /workspace/.pyenv_mirror/user/current/lib/python3.10/site-packages (from tensorflow-cpu->-r /workspace/Potato-Diseases-Detector/requirements.txt (line 8)) (0.2.0)\n",
            "Requirement already satisfied: setuptools in /usr/lib/python3/dist-packages (from tensorflow-cpu->-r /workspace/Potato-Diseases-Detector/requirements.txt (line 8)) (59.6.0)\n",
            "Requirement already satisfied: absl-py>=1.0.0 in /workspace/.pyenv_mirror/user/current/lib/python3.10/site-packages (from tensorflow-cpu->-r /workspace/Potato-Diseases-Detector/requirements.txt (line 8)) (2.0.0)\n",
            "Requirement already satisfied: tensorboard<2.16,>=2.15 in /workspace/.pyenv_mirror/user/current/lib/python3.10/site-packages (from tensorflow-cpu->-r /workspace/Potato-Diseases-Detector/requirements.txt (line 8)) (2.15.1)\n",
            "Requirement already satisfied: flatbuffers>=23.5.26 in /workspace/.pyenv_mirror/user/current/lib/python3.10/site-packages (from tensorflow-cpu->-r /workspace/Potato-Diseases-Detector/requirements.txt (line 8)) (23.5.26)\n",
            "Requirement already satisfied: google-pasta>=0.1.1 in /workspace/.pyenv_mirror/user/current/lib/python3.10/site-packages (from tensorflow-cpu->-r /workspace/Potato-Diseases-Detector/requirements.txt (line 8)) (0.2.0)\n",
            "Requirement already satisfied: libclang>=13.0.0 in /workspace/.pyenv_mirror/user/current/lib/python3.10/site-packages (from tensorflow-cpu->-r /workspace/Potato-Diseases-Detector/requirements.txt (line 8)) (16.0.6)\n",
            "Requirement already satisfied: h5py>=2.9.0 in /workspace/.pyenv_mirror/user/current/lib/python3.10/site-packages (from tensorflow-cpu->-r /workspace/Potato-Diseases-Detector/requirements.txt (line 8)) (3.10.0)\n",
            "Requirement already satisfied: wrapt<1.15,>=1.11.0 in /workspace/.pyenv_mirror/user/current/lib/python3.10/site-packages (from tensorflow-cpu->-r /workspace/Potato-Diseases-Detector/requirements.txt (line 8)) (1.14.1)\n",
            "Requirement already satisfied: tensorflow-io-gcs-filesystem>=0.23.1 in /workspace/.pyenv_mirror/user/current/lib/python3.10/site-packages (from tensorflow-cpu->-r /workspace/Potato-Diseases-Detector/requirements.txt (line 8)) (0.35.0)\n",
            "Requirement already satisfied: termcolor>=1.1.0 in /workspace/.pyenv_mirror/user/current/lib/python3.10/site-packages (from tensorflow-cpu->-r /workspace/Potato-Diseases-Detector/requirements.txt (line 8)) (2.4.0)\n",
            "Requirement already satisfied: opt-einsum>=2.3.2 in /workspace/.pyenv_mirror/user/current/lib/python3.10/site-packages (from tensorflow-cpu->-r /workspace/Potato-Diseases-Detector/requirements.txt (line 8)) (3.3.0)\n",
            "Requirement already satisfied: astunparse>=1.6.0 in /workspace/.pyenv_mirror/user/current/lib/python3.10/site-packages (from tensorflow-cpu->-r /workspace/Potato-Diseases-Detector/requirements.txt (line 8)) (1.6.3)\n",
            "Requirement already satisfied: grpcio<2.0,>=1.24.3 in /workspace/.pyenv_mirror/user/current/lib/python3.10/site-packages (from tensorflow-cpu->-r /workspace/Potato-Diseases-Detector/requirements.txt (line 8)) (1.60.0)\n",
            "Requirement already satisfied: tensorflow-estimator<2.16,>=2.15.0 in /workspace/.pyenv_mirror/user/current/lib/python3.10/site-packages (from tensorflow-cpu->-r /workspace/Potato-Diseases-Detector/requirements.txt (line 8)) (2.15.0)\n",
            "Requirement already satisfied: six>=1.12.0 in /usr/lib/python3/dist-packages (from tensorflow-cpu->-r /workspace/Potato-Diseases-Detector/requirements.txt (line 8)) (1.16.0)\n",
            "Requirement already satisfied: gast!=0.5.0,!=0.5.1,!=0.5.2,>=0.2.1 in /workspace/.pyenv_mirror/user/current/lib/python3.10/site-packages (from tensorflow-cpu->-r /workspace/Potato-Diseases-Detector/requirements.txt (line 8)) (0.5.4)\n",
            "Requirement already satisfied: toolz in /workspace/.pyenv_mirror/user/current/lib/python3.10/site-packages (from altair<6,>=4.0->streamlit->-r /workspace/Potato-Diseases-Detector/requirements.txt (line 6)) (0.12.0)\n",
            "Requirement already satisfied: jsonschema>=3.0 in /workspace/.pyenv_mirror/user/current/lib/python3.10/site-packages (from altair<6,>=4.0->streamlit->-r /workspace/Potato-Diseases-Detector/requirements.txt (line 6)) (4.20.0)\n",
            "Requirement already satisfied: jinja2 in /workspace/.pyenv_mirror/user/current/lib/python3.10/site-packages (from altair<6,>=4.0->streamlit->-r /workspace/Potato-Diseases-Detector/requirements.txt (line 6)) (3.1.2)\n",
            "Requirement already satisfied: wheel<1.0,>=0.23.0 in /usr/lib/python3/dist-packages (from astunparse>=1.6.0->tensorflow-cpu->-r /workspace/Potato-Diseases-Detector/requirements.txt (line 8)) (0.37.1)\n",
            "Requirement already satisfied: gitdb<5,>=4.0.1 in /workspace/.pyenv_mirror/user/current/lib/python3.10/site-packages (from gitpython!=3.1.19,<4,>=3.0.7->streamlit->-r /workspace/Potato-Diseases-Detector/requirements.txt (line 6)) (4.0.11)\n",
            "Requirement already satisfied: idna<4,>=2.5 in /workspace/.pyenv_mirror/user/current/lib/python3.10/site-packages (from requests<3,>=2.27->streamlit->-r /workspace/Potato-Diseases-Detector/requirements.txt (line 6)) (3.6)\n",
            "Requirement already satisfied: charset-normalizer<4,>=2 in /workspace/.pyenv_mirror/user/current/lib/python3.10/site-packages (from requests<3,>=2.27->streamlit->-r /workspace/Potato-Diseases-Detector/requirements.txt (line 6)) (3.3.2)\n",
            "Requirement already satisfied: certifi>=2017.4.17 in /workspace/.pyenv_mirror/user/current/lib/python3.10/site-packages (from requests<3,>=2.27->streamlit->-r /workspace/Potato-Diseases-Detector/requirements.txt (line 6)) (2023.11.17)\n",
            "Requirement already satisfied: urllib3<3,>=1.21.1 in /workspace/.pyenv_mirror/user/current/lib/python3.10/site-packages (from requests<3,>=2.27->streamlit->-r /workspace/Potato-Diseases-Detector/requirements.txt (line 6)) (2.1.0)\n",
            "Requirement already satisfied: markdown-it-py>=2.2.0 in /workspace/.pyenv_mirror/user/current/lib/python3.10/site-packages (from rich<14,>=10.14.0->streamlit->-r /workspace/Potato-Diseases-Detector/requirements.txt (line 6)) (3.0.0)\n",
            "Requirement already satisfied: pygments<3.0.0,>=2.13.0 in /workspace/.pyenv_mirror/user/current/lib/python3.10/site-packages (from rich<14,>=10.14.0->streamlit->-r /workspace/Potato-Diseases-Detector/requirements.txt (line 6)) (2.17.2)\n",
            "Requirement already satisfied: tensorboard-data-server<0.8.0,>=0.7.0 in /workspace/.pyenv_mirror/user/current/lib/python3.10/site-packages (from tensorboard<2.16,>=2.15->tensorflow-cpu->-r /workspace/Potato-Diseases-Detector/requirements.txt (line 8)) (0.7.2)\n",
            "Requirement already satisfied: markdown>=2.6.8 in /workspace/.pyenv_mirror/user/current/lib/python3.10/site-packages (from tensorboard<2.16,>=2.15->tensorflow-cpu->-r /workspace/Potato-Diseases-Detector/requirements.txt (line 8)) (3.5.1)\n",
            "Requirement already satisfied: google-auth-oauthlib<2,>=0.5 in /workspace/.pyenv_mirror/user/current/lib/python3.10/site-packages (from tensorboard<2.16,>=2.15->tensorflow-cpu->-r /workspace/Potato-Diseases-Detector/requirements.txt (line 8)) (1.2.0)\n",
            "Requirement already satisfied: google-auth<3,>=1.6.3 in /workspace/.pyenv_mirror/user/current/lib/python3.10/site-packages (from tensorboard<2.16,>=2.15->tensorflow-cpu->-r /workspace/Potato-Diseases-Detector/requirements.txt (line 8)) (2.25.2)\n",
            "Requirement already satisfied: werkzeug>=1.0.1 in /workspace/.pyenv_mirror/user/current/lib/python3.10/site-packages (from tensorboard<2.16,>=2.15->tensorflow-cpu->-r /workspace/Potato-Diseases-Detector/requirements.txt (line 8)) (3.0.1)\n",
            "Requirement already satisfied: smmap<6,>=3.0.1 in /workspace/.pyenv_mirror/user/current/lib/python3.10/site-packages (from gitdb<5,>=4.0.1->gitpython!=3.1.19,<4,>=3.0.7->streamlit->-r /workspace/Potato-Diseases-Detector/requirements.txt (line 6)) (5.0.1)\n",
            "Requirement already satisfied: pyasn1-modules>=0.2.1 in /workspace/.pyenv_mirror/user/current/lib/python3.10/site-packages (from google-auth<3,>=1.6.3->tensorboard<2.16,>=2.15->tensorflow-cpu->-r /workspace/Potato-Diseases-Detector/requirements.txt (line 8)) (0.3.0)\n",
            "Requirement already satisfied: rsa<5,>=3.1.4 in /workspace/.pyenv_mirror/user/current/lib/python3.10/site-packages (from google-auth<3,>=1.6.3->tensorboard<2.16,>=2.15->tensorflow-cpu->-r /workspace/Potato-Diseases-Detector/requirements.txt (line 8)) (4.9)\n",
            "Requirement already satisfied: requests-oauthlib>=0.7.0 in /workspace/.pyenv_mirror/user/current/lib/python3.10/site-packages (from google-auth-oauthlib<2,>=0.5->tensorboard<2.16,>=2.15->tensorflow-cpu->-r /workspace/Potato-Diseases-Detector/requirements.txt (line 8)) (1.3.1)\n",
            "Requirement already satisfied: MarkupSafe>=2.0 in /workspace/.pyenv_mirror/user/current/lib/python3.10/site-packages (from jinja2->altair<6,>=4.0->streamlit->-r /workspace/Potato-Diseases-Detector/requirements.txt (line 6)) (2.1.3)\n",
            "Requirement already satisfied: referencing>=0.28.4 in /workspace/.pyenv_mirror/user/current/lib/python3.10/site-packages (from jsonschema>=3.0->altair<6,>=4.0->streamlit->-r /workspace/Potato-Diseases-Detector/requirements.txt (line 6)) (0.32.0)\n",
            "Requirement already satisfied: jsonschema-specifications>=2023.03.6 in /workspace/.pyenv_mirror/user/current/lib/python3.10/site-packages (from jsonschema>=3.0->altair<6,>=4.0->streamlit->-r /workspace/Potato-Diseases-Detector/requirements.txt (line 6)) (2023.11.2)\n",
            "Requirement already satisfied: attrs>=22.2.0 in /workspace/.pyenv_mirror/user/current/lib/python3.10/site-packages (from jsonschema>=3.0->altair<6,>=4.0->streamlit->-r /workspace/Potato-Diseases-Detector/requirements.txt (line 6)) (23.1.0)\n",
            "Requirement already satisfied: rpds-py>=0.7.1 in /workspace/.pyenv_mirror/user/current/lib/python3.10/site-packages (from jsonschema>=3.0->altair<6,>=4.0->streamlit->-r /workspace/Potato-Diseases-Detector/requirements.txt (line 6)) (0.15.2)\n",
            "Requirement already satisfied: mdurl~=0.1 in /workspace/.pyenv_mirror/user/current/lib/python3.10/site-packages (from markdown-it-py>=2.2.0->rich<14,>=10.14.0->streamlit->-r /workspace/Potato-Diseases-Detector/requirements.txt (line 6)) (0.1.2)\n",
            "Requirement already satisfied: pyasn1<0.6.0,>=0.4.6 in /workspace/.pyenv_mirror/user/current/lib/python3.10/site-packages (from pyasn1-modules>=0.2.1->google-auth<3,>=1.6.3->tensorboard<2.16,>=2.15->tensorflow-cpu->-r /workspace/Potato-Diseases-Detector/requirements.txt (line 8)) (0.5.1)\n",
            "Requirement already satisfied: oauthlib>=3.0.0 in /usr/lib/python3/dist-packages (from requests-oauthlib>=0.7.0->google-auth-oauthlib<2,>=0.5->tensorboard<2.16,>=2.15->tensorflow-cpu->-r /workspace/Potato-Diseases-Detector/requirements.txt (line 8)) (3.2.0)\n"
          ]
        }
      ],
      "source": [
        "! pip install -r /workspace/Potato-Diseases-Detector/requirements.txt"
      ]
    },
    {
      "cell_type": "markdown",
      "metadata": {},
      "source": [
        "---"
      ]
    },
    {
      "cell_type": "markdown",
      "metadata": {
        "id": "cqP-UeN-z3i2"
      },
      "source": [
        "# Change working directory"
      ]
    },
    {
      "cell_type": "markdown",
      "metadata": {},
      "source": [
        "We store our Jupyter notebooks in a subfolder of the project. Therefore, when we run the notebooks in the editor, we need to change the working directory. This is necessary to ensure proper access to data files and other project resources that might be located outside the notebook's subfolder.\n",
        "\n",
        "We need to change the working directory from its current folder to its parent folder\n",
        "\n",
        "- To access the current working directory, we use the os.getcwd() command. "
      ]
    },
    {
      "cell_type": "code",
      "execution_count": 2,
      "metadata": {
        "id": "wZfF_j-Bz3i4",
        "outputId": "66943449-1436-4c3d-85c7-b85f9f78349b"
      },
      "outputs": [
        {
          "data": {
            "text/plain": [
              "'/workspace/Potato-Diseases-Detector/jupyter_notebooks'"
            ]
          },
          "execution_count": 2,
          "metadata": {},
          "output_type": "execute_result"
        }
      ],
      "source": [
        "import os\n",
        "current_dir = os.getcwd()\n",
        "current_dir"
      ]
    },
    {
      "cell_type": "markdown",
      "metadata": {
        "id": "9MWW8E7lz3i7"
      },
      "source": [
        "Then, we change the working directory from its current folder to its parent folder to facilitate the correct file path references within our notebooks.\n",
        "\n",
        "- os.path.dirname() gets the parent directory\n",
        "- os.chir() defines the new current directory"
      ]
    },
    {
      "cell_type": "code",
      "execution_count": 3,
      "metadata": {
        "id": "TwHsQRWjz3i9",
        "outputId": "86849db3-cd2f-4cc5-ebb8-2d0caafa1a2c"
      },
      "outputs": [
        {
          "name": "stdout",
          "output_type": "stream",
          "text": [
            "You set a new current directory\n"
          ]
        }
      ],
      "source": [
        "os.chdir(os.path.dirname(current_dir))\n",
        "print(\"You set a new current directory\")"
      ]
    },
    {
      "cell_type": "markdown",
      "metadata": {
        "id": "M_xPk_Ijz3i-"
      },
      "source": [
        "Confirm the new current directory"
      ]
    },
    {
      "cell_type": "code",
      "execution_count": 4,
      "metadata": {
        "id": "vz3S-_kjz3jA",
        "outputId": "00b79ae4-75d0-4a96-d193-ac9ef9847ea2"
      },
      "outputs": [
        {
          "data": {
            "text/plain": [
              "'/workspace/Potato-Diseases-Detector'"
            ]
          },
          "execution_count": 4,
          "metadata": {},
          "output_type": "execute_result"
        }
      ],
      "source": [
        "current_dir = os.getcwd()\n",
        "current_dir"
      ]
    },
    {
      "cell_type": "markdown",
      "metadata": {},
      "source": [
        "---"
      ]
    },
    {
      "cell_type": "markdown",
      "metadata": {},
      "source": [
        "# Load and Fetch data from Kaggle"
      ]
    },
    {
      "cell_type": "markdown",
      "metadata": {},
      "source": [
        "Install kaggle package to fetch data"
      ]
    },
    {
      "cell_type": "code",
      "execution_count": 5,
      "metadata": {},
      "outputs": [
        {
          "name": "stdout",
          "output_type": "stream",
          "text": [
            "Defaulting to user installation because normal site-packages is not writeable\n",
            "Requirement already satisfied: kaggle in /workspace/.pyenv_mirror/user/current/lib/python3.10/site-packages (1.5.16)\n",
            "Requirement already satisfied: urllib3 in /workspace/.pyenv_mirror/user/current/lib/python3.10/site-packages (from kaggle) (2.1.0)\n",
            "Requirement already satisfied: bleach in /workspace/.pyenv_mirror/user/current/lib/python3.10/site-packages (from kaggle) (6.1.0)\n",
            "Requirement already satisfied: six>=1.10 in /usr/lib/python3/dist-packages (from kaggle) (1.16.0)\n",
            "Requirement already satisfied: python-dateutil in /workspace/.pyenv_mirror/user/current/lib/python3.10/site-packages (from kaggle) (2.8.2)\n",
            "Requirement already satisfied: tqdm in /workspace/.pyenv_mirror/user/current/lib/python3.10/site-packages (from kaggle) (4.66.1)\n",
            "Requirement already satisfied: certifi in /workspace/.pyenv_mirror/user/current/lib/python3.10/site-packages (from kaggle) (2023.11.17)\n",
            "Requirement already satisfied: requests in /workspace/.pyenv_mirror/user/current/lib/python3.10/site-packages (from kaggle) (2.31.0)\n",
            "Requirement already satisfied: python-slugify in /workspace/.pyenv_mirror/user/current/lib/python3.10/site-packages (from kaggle) (8.0.1)\n",
            "Requirement already satisfied: webencodings in /workspace/.pyenv_mirror/user/current/lib/python3.10/site-packages (from bleach->kaggle) (0.5.1)\n",
            "Requirement already satisfied: text-unidecode>=1.3 in /workspace/.pyenv_mirror/user/current/lib/python3.10/site-packages (from python-slugify->kaggle) (1.3)\n",
            "Requirement already satisfied: idna<4,>=2.5 in /workspace/.pyenv_mirror/user/current/lib/python3.10/site-packages (from requests->kaggle) (3.6)\n",
            "Requirement already satisfied: charset-normalizer<4,>=2 in /workspace/.pyenv_mirror/user/current/lib/python3.10/site-packages (from requests->kaggle) (3.3.2)\n",
            "Note: you may need to restart the kernel to use updated packages.\n"
          ]
        }
      ],
      "source": [
        "%pip install kaggle"
      ]
    },
    {
      "cell_type": "markdown",
      "metadata": {},
      "source": [
        "Please note that to run this section, you must first upload your personal kaggle.json file into the workspace. This file is necessary for authenticating your requests to Kaggle. In this code block, we're setting up the KAGGLE_CONFIG_DIR environment variable to point to the project's directory. Additionally, we modify the file permissions of kaggle.json to make it readable for all users. This step is crucial to ensure that requests to the Kaggle API are processed correctly."
      ]
    },
    {
      "cell_type": "code",
      "execution_count": 6,
      "metadata": {},
      "outputs": [],
      "source": [
        "os.environ['KAGGLE_CONFIG_DIR'] = os.getcwd()\n",
        "! chmod 600 kaggle.json"
      ]
    },
    {
      "cell_type": "markdown",
      "metadata": {},
      "source": [
        "Now, we'll set the path for the Kaggle dataset and create a specific directory for it. Following that, we'll execute a command through Kaggle's interface to download the dataset into this newly created directory."
      ]
    },
    {
      "cell_type": "code",
      "execution_count": 7,
      "metadata": {},
      "outputs": [
        {
          "name": "stdout",
          "output_type": "stream",
          "text": [
            "Downloading potato-diseases-datasets.zip to inputs/datasets_raw\n",
            " 64%|████████████████████████▎             | 8.00M/12.5M [00:00<00:00, 21.4MB/s]\n",
            "100%|██████████████████████████████████████| 12.5M/12.5M [00:00<00:00, 21.3MB/s]\n"
          ]
        }
      ],
      "source": [
        "KaggleDatasetPath = \"mukaffimoin/potato-diseases-datasets\"\n",
        "DestinationFolder = \"inputs/datasets_raw\"\n",
        "if not os.path.isdir(DestinationFolder):\n",
        "    os.makedirs(DestinationFolder)\n",
        "\n",
        "! kaggle datasets download -d {KaggleDatasetPath} -p {DestinationFolder}"
      ]
    },
    {
      "cell_type": "markdown",
      "metadata": {},
      "source": [
        "Unzip the downloaded file and delete the zip file"
      ]
    },
    {
      "cell_type": "code",
      "execution_count": 8,
      "metadata": {},
      "outputs": [
        {
          "name": "stdout",
          "output_type": "stream",
          "text": [
            "Archive:  inputs/datasets_raw/potato-diseases-datasets.zip\n",
            "  inflating: inputs/datasets_raw/Black Scurf/1.jpg  \n",
            "  inflating: inputs/datasets_raw/Black Scurf/10.jpg  \n",
            "  inflating: inputs/datasets_raw/Black Scurf/11.jpg  \n",
            "  inflating: inputs/datasets_raw/Black Scurf/12.jpg  \n",
            "  inflating: inputs/datasets_raw/Black Scurf/13.jpg  \n",
            "  inflating: inputs/datasets_raw/Black Scurf/14.jpg  \n",
            "  inflating: inputs/datasets_raw/Black Scurf/15.jpg  \n",
            "  inflating: inputs/datasets_raw/Black Scurf/16.jpg  \n",
            "  inflating: inputs/datasets_raw/Black Scurf/17.jpg  \n",
            "  inflating: inputs/datasets_raw/Black Scurf/18.jpg  \n",
            "  inflating: inputs/datasets_raw/Black Scurf/19.jpg  \n",
            "  inflating: inputs/datasets_raw/Black Scurf/2.jpg  \n",
            "  inflating: inputs/datasets_raw/Black Scurf/20.jpg  \n",
            "  inflating: inputs/datasets_raw/Black Scurf/21.jpg  \n",
            "  inflating: inputs/datasets_raw/Black Scurf/22.jpg  \n",
            "  inflating: inputs/datasets_raw/Black Scurf/23.jpg  \n",
            "  inflating: inputs/datasets_raw/Black Scurf/24.jpg  \n",
            "  inflating: inputs/datasets_raw/Black Scurf/25.jpg  \n",
            "  inflating: inputs/datasets_raw/Black Scurf/26.jpg  \n",
            "  inflating: inputs/datasets_raw/Black Scurf/27.jpg  \n",
            "  inflating: inputs/datasets_raw/Black Scurf/28.jpg  \n",
            "  inflating: inputs/datasets_raw/Black Scurf/29.jpg  \n",
            "  inflating: inputs/datasets_raw/Black Scurf/3.jpg  \n",
            "  inflating: inputs/datasets_raw/Black Scurf/30.jpg  \n",
            "  inflating: inputs/datasets_raw/Black Scurf/31.jpg  \n",
            "  inflating: inputs/datasets_raw/Black Scurf/32.jpg  \n",
            "  inflating: inputs/datasets_raw/Black Scurf/33.jpg  \n",
            "  inflating: inputs/datasets_raw/Black Scurf/34.jpg  \n",
            "  inflating: inputs/datasets_raw/Black Scurf/35.jpg  \n",
            "  inflating: inputs/datasets_raw/Black Scurf/36.jpg  \n",
            "  inflating: inputs/datasets_raw/Black Scurf/37.jpg  \n",
            "  inflating: inputs/datasets_raw/Black Scurf/38.jpg  \n",
            "  inflating: inputs/datasets_raw/Black Scurf/39.jpg  \n",
            "  inflating: inputs/datasets_raw/Black Scurf/4.jpg  \n",
            "  inflating: inputs/datasets_raw/Black Scurf/40.jpg  \n",
            "  inflating: inputs/datasets_raw/Black Scurf/41.jpg  \n",
            "  inflating: inputs/datasets_raw/Black Scurf/42.jpg  \n",
            "  inflating: inputs/datasets_raw/Black Scurf/43.jpg  \n",
            "  inflating: inputs/datasets_raw/Black Scurf/44.jpg  \n",
            "  inflating: inputs/datasets_raw/Black Scurf/45.jpg  \n",
            "  inflating: inputs/datasets_raw/Black Scurf/46.jpg  \n",
            "  inflating: inputs/datasets_raw/Black Scurf/47.jpg  \n",
            "  inflating: inputs/datasets_raw/Black Scurf/48.jpg  \n",
            "  inflating: inputs/datasets_raw/Black Scurf/49.jpg  \n",
            "  inflating: inputs/datasets_raw/Black Scurf/5.jpg  \n",
            "  inflating: inputs/datasets_raw/Black Scurf/50.jpg  \n",
            "  inflating: inputs/datasets_raw/Black Scurf/51.jpg  \n",
            "  inflating: inputs/datasets_raw/Black Scurf/52.jpg  \n",
            "  inflating: inputs/datasets_raw/Black Scurf/53.jpg  \n",
            "  inflating: inputs/datasets_raw/Black Scurf/54.jpg  \n",
            "  inflating: inputs/datasets_raw/Black Scurf/55.jpg  \n",
            "  inflating: inputs/datasets_raw/Black Scurf/56.jpg  \n",
            "  inflating: inputs/datasets_raw/Black Scurf/57.jpeg  \n",
            "  inflating: inputs/datasets_raw/Black Scurf/58.jpg  \n",
            "  inflating: inputs/datasets_raw/Black Scurf/6.jpg  \n",
            "  inflating: inputs/datasets_raw/Black Scurf/7.jpg  \n",
            "  inflating: inputs/datasets_raw/Black Scurf/8.jpg  \n",
            "  inflating: inputs/datasets_raw/Black Scurf/9.jpg  \n",
            "  inflating: inputs/datasets_raw/Blackleg/1.jpg  \n",
            "  inflating: inputs/datasets_raw/Blackleg/10.jpg  \n",
            "  inflating: inputs/datasets_raw/Blackleg/11.jpg  \n",
            "  inflating: inputs/datasets_raw/Blackleg/12.jpg  \n",
            "  inflating: inputs/datasets_raw/Blackleg/13.jpg  \n",
            "  inflating: inputs/datasets_raw/Blackleg/14.jpg  \n",
            "  inflating: inputs/datasets_raw/Blackleg/15.jpg  \n",
            "  inflating: inputs/datasets_raw/Blackleg/16.jpg  \n",
            "  inflating: inputs/datasets_raw/Blackleg/17.jpg  \n",
            "  inflating: inputs/datasets_raw/Blackleg/18.jpeg  \n",
            "  inflating: inputs/datasets_raw/Blackleg/19.jpg  \n",
            "  inflating: inputs/datasets_raw/Blackleg/2.jpg  \n",
            "  inflating: inputs/datasets_raw/Blackleg/20.jpg  \n",
            "  inflating: inputs/datasets_raw/Blackleg/21.jpg  \n",
            "  inflating: inputs/datasets_raw/Blackleg/22.jpg  \n",
            "  inflating: inputs/datasets_raw/Blackleg/23.jpg  \n",
            "  inflating: inputs/datasets_raw/Blackleg/24.jpg  \n",
            "  inflating: inputs/datasets_raw/Blackleg/25.jpg  \n",
            "  inflating: inputs/datasets_raw/Blackleg/26.jpg  \n",
            "  inflating: inputs/datasets_raw/Blackleg/27.jpg  \n",
            "  inflating: inputs/datasets_raw/Blackleg/28.jpg  \n",
            "  inflating: inputs/datasets_raw/Blackleg/29.jpg  \n",
            "  inflating: inputs/datasets_raw/Blackleg/3.jpg  \n",
            "  inflating: inputs/datasets_raw/Blackleg/30.jpg  \n",
            "  inflating: inputs/datasets_raw/Blackleg/31.jpg  \n",
            "  inflating: inputs/datasets_raw/Blackleg/32.jpg  \n",
            "  inflating: inputs/datasets_raw/Blackleg/33.jpg  \n",
            "  inflating: inputs/datasets_raw/Blackleg/34.jpg  \n",
            "  inflating: inputs/datasets_raw/Blackleg/35.jpeg  \n",
            "  inflating: inputs/datasets_raw/Blackleg/36.jpg  \n",
            "  inflating: inputs/datasets_raw/Blackleg/37.jpeg  \n",
            "  inflating: inputs/datasets_raw/Blackleg/38.jpg  \n",
            "  inflating: inputs/datasets_raw/Blackleg/39.jpg  \n",
            "  inflating: inputs/datasets_raw/Blackleg/4.jpg  \n",
            "  inflating: inputs/datasets_raw/Blackleg/40.jpg  \n",
            "  inflating: inputs/datasets_raw/Blackleg/41.jpg  \n",
            "  inflating: inputs/datasets_raw/Blackleg/42.jpg  \n",
            "  inflating: inputs/datasets_raw/Blackleg/43.jpg  \n",
            "  inflating: inputs/datasets_raw/Blackleg/44.jpg  \n",
            "  inflating: inputs/datasets_raw/Blackleg/45.jpg  \n",
            "  inflating: inputs/datasets_raw/Blackleg/46.jpg  \n",
            "  inflating: inputs/datasets_raw/Blackleg/47.jpg  \n",
            "  inflating: inputs/datasets_raw/Blackleg/48.jpg  \n",
            "  inflating: inputs/datasets_raw/Blackleg/49.jpg  \n",
            "  inflating: inputs/datasets_raw/Blackleg/5.jpg  \n",
            "  inflating: inputs/datasets_raw/Blackleg/50.jpg  \n",
            "  inflating: inputs/datasets_raw/Blackleg/51.jpg  \n",
            "  inflating: inputs/datasets_raw/Blackleg/52.jpg  \n",
            "  inflating: inputs/datasets_raw/Blackleg/53.jpg  \n",
            "  inflating: inputs/datasets_raw/Blackleg/54.jpg  \n",
            "  inflating: inputs/datasets_raw/Blackleg/55.jpg  \n",
            "  inflating: inputs/datasets_raw/Blackleg/56.jpg  \n",
            "  inflating: inputs/datasets_raw/Blackleg/57.jpg  \n",
            "  inflating: inputs/datasets_raw/Blackleg/58.jpg  \n",
            "  inflating: inputs/datasets_raw/Blackleg/59.jpg  \n",
            "  inflating: inputs/datasets_raw/Blackleg/6.jpg  \n",
            "  inflating: inputs/datasets_raw/Blackleg/60.jpg  \n",
            "  inflating: inputs/datasets_raw/Blackleg/7.jpg  \n",
            "  inflating: inputs/datasets_raw/Blackleg/8.jpg  \n",
            "  inflating: inputs/datasets_raw/Blackleg/9.jpg  \n",
            "  inflating: inputs/datasets_raw/Common Scab/1.jpg  \n",
            "  inflating: inputs/datasets_raw/Common Scab/10.jpg  \n",
            "  inflating: inputs/datasets_raw/Common Scab/11.jpg  \n",
            "  inflating: inputs/datasets_raw/Common Scab/12.jpg  \n",
            "  inflating: inputs/datasets_raw/Common Scab/13.jpg  \n",
            "  inflating: inputs/datasets_raw/Common Scab/14.jpg  \n",
            "  inflating: inputs/datasets_raw/Common Scab/15.jpg  \n",
            "  inflating: inputs/datasets_raw/Common Scab/16.jpg  \n",
            "  inflating: inputs/datasets_raw/Common Scab/17.jpg  \n",
            "  inflating: inputs/datasets_raw/Common Scab/18.jpg  \n",
            "  inflating: inputs/datasets_raw/Common Scab/19.jpg  \n",
            "  inflating: inputs/datasets_raw/Common Scab/2.jpg  \n",
            "  inflating: inputs/datasets_raw/Common Scab/20.jpg  \n",
            "  inflating: inputs/datasets_raw/Common Scab/21.jpg  \n",
            "  inflating: inputs/datasets_raw/Common Scab/22.jpg  \n",
            "  inflating: inputs/datasets_raw/Common Scab/23.jpg  \n",
            "  inflating: inputs/datasets_raw/Common Scab/24.jpg  \n",
            "  inflating: inputs/datasets_raw/Common Scab/25.jpg  \n",
            "  inflating: inputs/datasets_raw/Common Scab/26.jpg  \n",
            "  inflating: inputs/datasets_raw/Common Scab/27.jpg  \n",
            "  inflating: inputs/datasets_raw/Common Scab/28.jpg  \n",
            "  inflating: inputs/datasets_raw/Common Scab/29.jpg  \n",
            "  inflating: inputs/datasets_raw/Common Scab/3.jpg  \n",
            "  inflating: inputs/datasets_raw/Common Scab/30.jpg  \n",
            "  inflating: inputs/datasets_raw/Common Scab/31.jpg  \n",
            "  inflating: inputs/datasets_raw/Common Scab/32.jpg  \n",
            "  inflating: inputs/datasets_raw/Common Scab/33.jpg  \n",
            "  inflating: inputs/datasets_raw/Common Scab/34.jpg  \n",
            "  inflating: inputs/datasets_raw/Common Scab/35.jpg  \n",
            "  inflating: inputs/datasets_raw/Common Scab/36.jpg  \n",
            "  inflating: inputs/datasets_raw/Common Scab/37.jpg  \n",
            "  inflating: inputs/datasets_raw/Common Scab/38.jpg  \n",
            "  inflating: inputs/datasets_raw/Common Scab/39.jpg  \n",
            "  inflating: inputs/datasets_raw/Common Scab/4.jpg  \n",
            "  inflating: inputs/datasets_raw/Common Scab/40.jpg  \n",
            "  inflating: inputs/datasets_raw/Common Scab/41.jpg  \n",
            "  inflating: inputs/datasets_raw/Common Scab/42.jpeg  \n",
            "  inflating: inputs/datasets_raw/Common Scab/43.jpg  \n",
            "  inflating: inputs/datasets_raw/Common Scab/44.jpg  \n",
            "  inflating: inputs/datasets_raw/Common Scab/45.jpg  \n",
            "  inflating: inputs/datasets_raw/Common Scab/46.jpg  \n",
            "  inflating: inputs/datasets_raw/Common Scab/47.jpg  \n",
            "  inflating: inputs/datasets_raw/Common Scab/48.jpg  \n",
            "  inflating: inputs/datasets_raw/Common Scab/49.jpg  \n",
            "  inflating: inputs/datasets_raw/Common Scab/5.jpg  \n",
            "  inflating: inputs/datasets_raw/Common Scab/50.jpg  \n",
            "  inflating: inputs/datasets_raw/Common Scab/51.jpg  \n",
            "  inflating: inputs/datasets_raw/Common Scab/52.jpg  \n",
            "  inflating: inputs/datasets_raw/Common Scab/53.jpg  \n",
            "  inflating: inputs/datasets_raw/Common Scab/54.jpg  \n",
            "  inflating: inputs/datasets_raw/Common Scab/55.jpg  \n",
            "  inflating: inputs/datasets_raw/Common Scab/56.jpg  \n",
            "  inflating: inputs/datasets_raw/Common Scab/57.jpg  \n",
            "  inflating: inputs/datasets_raw/Common Scab/58.jpg  \n",
            "  inflating: inputs/datasets_raw/Common Scab/59.jpg  \n",
            "  inflating: inputs/datasets_raw/Common Scab/6.jpg  \n",
            "  inflating: inputs/datasets_raw/Common Scab/60.jpg  \n",
            "  inflating: inputs/datasets_raw/Common Scab/61.jpg  \n",
            "  inflating: inputs/datasets_raw/Common Scab/62.jpg  \n",
            "  inflating: inputs/datasets_raw/Common Scab/7.jpg  \n",
            "  inflating: inputs/datasets_raw/Common Scab/8.jpg  \n",
            "  inflating: inputs/datasets_raw/Common Scab/9.jpg  \n",
            "  inflating: inputs/datasets_raw/Dry Rot/1.jpg  \n",
            "  inflating: inputs/datasets_raw/Dry Rot/10.jpg  \n",
            "  inflating: inputs/datasets_raw/Dry Rot/11.jpg  \n",
            "  inflating: inputs/datasets_raw/Dry Rot/12.jpg  \n",
            "  inflating: inputs/datasets_raw/Dry Rot/13.jpg  \n",
            "  inflating: inputs/datasets_raw/Dry Rot/14.jpg  \n",
            "  inflating: inputs/datasets_raw/Dry Rot/15.jpg  \n",
            "  inflating: inputs/datasets_raw/Dry Rot/16.jpg  \n",
            "  inflating: inputs/datasets_raw/Dry Rot/17.jpg  \n",
            "  inflating: inputs/datasets_raw/Dry Rot/18.jpg  \n",
            "  inflating: inputs/datasets_raw/Dry Rot/19.jpg  \n",
            "  inflating: inputs/datasets_raw/Dry Rot/2.jpg  \n",
            "  inflating: inputs/datasets_raw/Dry Rot/20.jpg  \n",
            "  inflating: inputs/datasets_raw/Dry Rot/21.jpg  \n",
            "  inflating: inputs/datasets_raw/Dry Rot/22.jpg  \n",
            "  inflating: inputs/datasets_raw/Dry Rot/23.jpg  \n",
            "  inflating: inputs/datasets_raw/Dry Rot/24.jpg  \n",
            "  inflating: inputs/datasets_raw/Dry Rot/25.jpg  \n",
            "  inflating: inputs/datasets_raw/Dry Rot/26.jpg  \n",
            "  inflating: inputs/datasets_raw/Dry Rot/27.jpg  \n",
            "  inflating: inputs/datasets_raw/Dry Rot/28.jpg  \n",
            "  inflating: inputs/datasets_raw/Dry Rot/29.jpg  \n",
            "  inflating: inputs/datasets_raw/Dry Rot/3.jpg  \n",
            "  inflating: inputs/datasets_raw/Dry Rot/30.jpg  \n",
            "  inflating: inputs/datasets_raw/Dry Rot/31.jpg  \n",
            "  inflating: inputs/datasets_raw/Dry Rot/32.jpg  \n",
            "  inflating: inputs/datasets_raw/Dry Rot/33.jpg  \n",
            "  inflating: inputs/datasets_raw/Dry Rot/34.jpg  \n",
            "  inflating: inputs/datasets_raw/Dry Rot/35.jpg  \n",
            "  inflating: inputs/datasets_raw/Dry Rot/36.jpg  \n",
            "  inflating: inputs/datasets_raw/Dry Rot/37.jpg  \n",
            "  inflating: inputs/datasets_raw/Dry Rot/38.jpg  \n",
            "  inflating: inputs/datasets_raw/Dry Rot/39.jpg  \n",
            "  inflating: inputs/datasets_raw/Dry Rot/4.jpg  \n",
            "  inflating: inputs/datasets_raw/Dry Rot/40.jpg  \n",
            "  inflating: inputs/datasets_raw/Dry Rot/41.jpg  \n",
            "  inflating: inputs/datasets_raw/Dry Rot/42.jpg  \n",
            "  inflating: inputs/datasets_raw/Dry Rot/43.jpg  \n",
            "  inflating: inputs/datasets_raw/Dry Rot/44.jpg  \n",
            "  inflating: inputs/datasets_raw/Dry Rot/45.jpg  \n",
            "  inflating: inputs/datasets_raw/Dry Rot/46.png  \n",
            "  inflating: inputs/datasets_raw/Dry Rot/47.jpg  \n",
            "  inflating: inputs/datasets_raw/Dry Rot/48.jpg  \n",
            "  inflating: inputs/datasets_raw/Dry Rot/49.jpg  \n",
            "  inflating: inputs/datasets_raw/Dry Rot/5.jpg  \n",
            "  inflating: inputs/datasets_raw/Dry Rot/50.jpg  \n",
            "  inflating: inputs/datasets_raw/Dry Rot/51.jpg  \n",
            "  inflating: inputs/datasets_raw/Dry Rot/52.jpg  \n",
            "  inflating: inputs/datasets_raw/Dry Rot/53.jpg  \n",
            "  inflating: inputs/datasets_raw/Dry Rot/54.jpg  \n",
            "  inflating: inputs/datasets_raw/Dry Rot/55.jpg  \n",
            "  inflating: inputs/datasets_raw/Dry Rot/56.jpg  \n",
            "  inflating: inputs/datasets_raw/Dry Rot/57.jpg  \n",
            "  inflating: inputs/datasets_raw/Dry Rot/58.jpg  \n",
            "  inflating: inputs/datasets_raw/Dry Rot/59.jpg  \n",
            "  inflating: inputs/datasets_raw/Dry Rot/6.jpg  \n",
            "  inflating: inputs/datasets_raw/Dry Rot/60.jpg  \n",
            "  inflating: inputs/datasets_raw/Dry Rot/7.jpg  \n",
            "  inflating: inputs/datasets_raw/Dry Rot/8.jpg  \n",
            "  inflating: inputs/datasets_raw/Dry Rot/9.jpg  \n",
            "  inflating: inputs/datasets_raw/Healthy Potatoes/1.jpg  \n",
            "  inflating: inputs/datasets_raw/Healthy Potatoes/10.jpg  \n",
            "  inflating: inputs/datasets_raw/Healthy Potatoes/11.jpg  \n",
            "  inflating: inputs/datasets_raw/Healthy Potatoes/12.jpg  \n",
            "  inflating: inputs/datasets_raw/Healthy Potatoes/13.jpg  \n",
            "  inflating: inputs/datasets_raw/Healthy Potatoes/14.jpg  \n",
            "  inflating: inputs/datasets_raw/Healthy Potatoes/15.jpg  \n",
            "  inflating: inputs/datasets_raw/Healthy Potatoes/16.jpg  \n",
            "  inflating: inputs/datasets_raw/Healthy Potatoes/17.jpg  \n",
            "  inflating: inputs/datasets_raw/Healthy Potatoes/18.jpg  \n",
            "  inflating: inputs/datasets_raw/Healthy Potatoes/19.jpg  \n",
            "  inflating: inputs/datasets_raw/Healthy Potatoes/2.jpg  \n",
            "  inflating: inputs/datasets_raw/Healthy Potatoes/20.jpg  \n",
            "  inflating: inputs/datasets_raw/Healthy Potatoes/21.jpg  \n",
            "  inflating: inputs/datasets_raw/Healthy Potatoes/22.jpg  \n",
            "  inflating: inputs/datasets_raw/Healthy Potatoes/23.jpg  \n",
            "  inflating: inputs/datasets_raw/Healthy Potatoes/24.jpg  \n",
            "  inflating: inputs/datasets_raw/Healthy Potatoes/25.jpg  \n",
            "  inflating: inputs/datasets_raw/Healthy Potatoes/26.jpg  \n",
            "  inflating: inputs/datasets_raw/Healthy Potatoes/27.jpg  \n",
            "  inflating: inputs/datasets_raw/Healthy Potatoes/28.jpg  \n",
            "  inflating: inputs/datasets_raw/Healthy Potatoes/29.jpg  \n",
            "  inflating: inputs/datasets_raw/Healthy Potatoes/3.jpg  \n",
            "  inflating: inputs/datasets_raw/Healthy Potatoes/30.jpg  \n",
            "  inflating: inputs/datasets_raw/Healthy Potatoes/31.jpg  \n",
            "  inflating: inputs/datasets_raw/Healthy Potatoes/32.jpg  \n",
            "  inflating: inputs/datasets_raw/Healthy Potatoes/33.jpg  \n",
            "  inflating: inputs/datasets_raw/Healthy Potatoes/34.jpg  \n",
            "  inflating: inputs/datasets_raw/Healthy Potatoes/35.jpg  \n",
            "  inflating: inputs/datasets_raw/Healthy Potatoes/36.jpg  \n",
            "  inflating: inputs/datasets_raw/Healthy Potatoes/37.jpg  \n",
            "  inflating: inputs/datasets_raw/Healthy Potatoes/38.jpg  \n",
            "  inflating: inputs/datasets_raw/Healthy Potatoes/39.jpg  \n",
            "  inflating: inputs/datasets_raw/Healthy Potatoes/4.jpg  \n",
            "  inflating: inputs/datasets_raw/Healthy Potatoes/40.jpg  \n",
            "  inflating: inputs/datasets_raw/Healthy Potatoes/41.jpg  \n",
            "  inflating: inputs/datasets_raw/Healthy Potatoes/42.jpg  \n",
            "  inflating: inputs/datasets_raw/Healthy Potatoes/43.jpg  \n",
            "  inflating: inputs/datasets_raw/Healthy Potatoes/44.jpg  \n",
            "  inflating: inputs/datasets_raw/Healthy Potatoes/45.jpg  \n",
            "  inflating: inputs/datasets_raw/Healthy Potatoes/46.jpg  \n",
            "  inflating: inputs/datasets_raw/Healthy Potatoes/47.jpg  \n",
            "  inflating: inputs/datasets_raw/Healthy Potatoes/48.jpg  \n",
            "  inflating: inputs/datasets_raw/Healthy Potatoes/49.jpg  \n",
            "  inflating: inputs/datasets_raw/Healthy Potatoes/5.jpg  \n",
            "  inflating: inputs/datasets_raw/Healthy Potatoes/50.jpg  \n",
            "  inflating: inputs/datasets_raw/Healthy Potatoes/51.jpg  \n",
            "  inflating: inputs/datasets_raw/Healthy Potatoes/52.jpg  \n",
            "  inflating: inputs/datasets_raw/Healthy Potatoes/53.jpg  \n",
            "  inflating: inputs/datasets_raw/Healthy Potatoes/54.jpg  \n",
            "  inflating: inputs/datasets_raw/Healthy Potatoes/55.jpg  \n",
            "  inflating: inputs/datasets_raw/Healthy Potatoes/56.jpg  \n",
            "  inflating: inputs/datasets_raw/Healthy Potatoes/57.jpg  \n",
            "  inflating: inputs/datasets_raw/Healthy Potatoes/58.jpg  \n",
            "  inflating: inputs/datasets_raw/Healthy Potatoes/59.jpg  \n",
            "  inflating: inputs/datasets_raw/Healthy Potatoes/6.jpg  \n",
            "  inflating: inputs/datasets_raw/Healthy Potatoes/60.jpg  \n",
            "  inflating: inputs/datasets_raw/Healthy Potatoes/61.jpg  \n",
            "  inflating: inputs/datasets_raw/Healthy Potatoes/62.jpg  \n",
            "  inflating: inputs/datasets_raw/Healthy Potatoes/63.jpg  \n",
            "  inflating: inputs/datasets_raw/Healthy Potatoes/64.jpg  \n",
            "  inflating: inputs/datasets_raw/Healthy Potatoes/65.jpg  \n",
            "  inflating: inputs/datasets_raw/Healthy Potatoes/66.jpg  \n",
            "  inflating: inputs/datasets_raw/Healthy Potatoes/67.jpg  \n",
            "  inflating: inputs/datasets_raw/Healthy Potatoes/68.jpg  \n",
            "  inflating: inputs/datasets_raw/Healthy Potatoes/69.jpg  \n",
            "  inflating: inputs/datasets_raw/Healthy Potatoes/7.jpg  \n",
            "  inflating: inputs/datasets_raw/Healthy Potatoes/70.jpg  \n",
            "  inflating: inputs/datasets_raw/Healthy Potatoes/71.jpg  \n",
            "  inflating: inputs/datasets_raw/Healthy Potatoes/72.jpg  \n",
            "  inflating: inputs/datasets_raw/Healthy Potatoes/73.jpg  \n",
            "  inflating: inputs/datasets_raw/Healthy Potatoes/74.jpg  \n",
            "  inflating: inputs/datasets_raw/Healthy Potatoes/75.jpg  \n",
            "  inflating: inputs/datasets_raw/Healthy Potatoes/76.jpg  \n",
            "  inflating: inputs/datasets_raw/Healthy Potatoes/77.jpg  \n",
            "  inflating: inputs/datasets_raw/Healthy Potatoes/78.jpg  \n",
            "  inflating: inputs/datasets_raw/Healthy Potatoes/79.jpg  \n",
            "  inflating: inputs/datasets_raw/Healthy Potatoes/8.jpg  \n",
            "  inflating: inputs/datasets_raw/Healthy Potatoes/80.jpg  \n",
            "  inflating: inputs/datasets_raw/Healthy Potatoes/9.jpg  \n",
            "  inflating: inputs/datasets_raw/Miscellaneous/1.jpg  \n",
            "  inflating: inputs/datasets_raw/Miscellaneous/10.jpg  \n",
            "  inflating: inputs/datasets_raw/Miscellaneous/11.jpg  \n",
            "  inflating: inputs/datasets_raw/Miscellaneous/12.jpg  \n",
            "  inflating: inputs/datasets_raw/Miscellaneous/13.jpg  \n",
            "  inflating: inputs/datasets_raw/Miscellaneous/14.jpg  \n",
            "  inflating: inputs/datasets_raw/Miscellaneous/15.jpg  \n",
            "  inflating: inputs/datasets_raw/Miscellaneous/16.jpg  \n",
            "  inflating: inputs/datasets_raw/Miscellaneous/17.jpg  \n",
            "  inflating: inputs/datasets_raw/Miscellaneous/18.jpg  \n",
            "  inflating: inputs/datasets_raw/Miscellaneous/19.jpg  \n",
            "  inflating: inputs/datasets_raw/Miscellaneous/2.jpg  \n",
            "  inflating: inputs/datasets_raw/Miscellaneous/20.jpg  \n",
            "  inflating: inputs/datasets_raw/Miscellaneous/21.jpg  \n",
            "  inflating: inputs/datasets_raw/Miscellaneous/22.jpg  \n",
            "  inflating: inputs/datasets_raw/Miscellaneous/23.jpg  \n",
            "  inflating: inputs/datasets_raw/Miscellaneous/24.jpg  \n",
            "  inflating: inputs/datasets_raw/Miscellaneous/25.jpg  \n",
            "  inflating: inputs/datasets_raw/Miscellaneous/26.jpg  \n",
            "  inflating: inputs/datasets_raw/Miscellaneous/27.jpg  \n",
            "  inflating: inputs/datasets_raw/Miscellaneous/28.jpg  \n",
            "  inflating: inputs/datasets_raw/Miscellaneous/29.jpg  \n",
            "  inflating: inputs/datasets_raw/Miscellaneous/3.jpg  \n",
            "  inflating: inputs/datasets_raw/Miscellaneous/30.jpg  \n",
            "  inflating: inputs/datasets_raw/Miscellaneous/31.jpg  \n",
            "  inflating: inputs/datasets_raw/Miscellaneous/32.jpg  \n",
            "  inflating: inputs/datasets_raw/Miscellaneous/33.jpg  \n",
            "  inflating: inputs/datasets_raw/Miscellaneous/34.jpg  \n",
            "  inflating: inputs/datasets_raw/Miscellaneous/35.jpg  \n",
            "  inflating: inputs/datasets_raw/Miscellaneous/36.jpg  \n",
            "  inflating: inputs/datasets_raw/Miscellaneous/37.jpg  \n",
            "  inflating: inputs/datasets_raw/Miscellaneous/38.jpg  \n",
            "  inflating: inputs/datasets_raw/Miscellaneous/39.jpg  \n",
            "  inflating: inputs/datasets_raw/Miscellaneous/4.jpg  \n",
            "  inflating: inputs/datasets_raw/Miscellaneous/40.jpg  \n",
            "  inflating: inputs/datasets_raw/Miscellaneous/41.jpg  \n",
            "  inflating: inputs/datasets_raw/Miscellaneous/42.jpg  \n",
            "  inflating: inputs/datasets_raw/Miscellaneous/43.jpg  \n",
            "  inflating: inputs/datasets_raw/Miscellaneous/44.jpg  \n",
            "  inflating: inputs/datasets_raw/Miscellaneous/45.jpg  \n",
            "  inflating: inputs/datasets_raw/Miscellaneous/46.jpg  \n",
            "  inflating: inputs/datasets_raw/Miscellaneous/47.jpg  \n",
            "  inflating: inputs/datasets_raw/Miscellaneous/48.jpg  \n",
            "  inflating: inputs/datasets_raw/Miscellaneous/49.jpg  \n",
            "  inflating: inputs/datasets_raw/Miscellaneous/5.jpg  \n",
            "  inflating: inputs/datasets_raw/Miscellaneous/50.jpg  \n",
            "  inflating: inputs/datasets_raw/Miscellaneous/51.jpg  \n",
            "  inflating: inputs/datasets_raw/Miscellaneous/52.jpg  \n",
            "  inflating: inputs/datasets_raw/Miscellaneous/53.jpg  \n",
            "  inflating: inputs/datasets_raw/Miscellaneous/54.jpg  \n",
            "  inflating: inputs/datasets_raw/Miscellaneous/55.jpg  \n",
            "  inflating: inputs/datasets_raw/Miscellaneous/56.jpg  \n",
            "  inflating: inputs/datasets_raw/Miscellaneous/57.jpg  \n",
            "  inflating: inputs/datasets_raw/Miscellaneous/58.jpg  \n",
            "  inflating: inputs/datasets_raw/Miscellaneous/59.jpg  \n",
            "  inflating: inputs/datasets_raw/Miscellaneous/6.jpg  \n",
            "  inflating: inputs/datasets_raw/Miscellaneous/60.jpg  \n",
            "  inflating: inputs/datasets_raw/Miscellaneous/61.jpg  \n",
            "  inflating: inputs/datasets_raw/Miscellaneous/62.jpg  \n",
            "  inflating: inputs/datasets_raw/Miscellaneous/63.jpg  \n",
            "  inflating: inputs/datasets_raw/Miscellaneous/64.jpg  \n",
            "  inflating: inputs/datasets_raw/Miscellaneous/65.jpg  \n",
            "  inflating: inputs/datasets_raw/Miscellaneous/66.jpg  \n",
            "  inflating: inputs/datasets_raw/Miscellaneous/67.jpg  \n",
            "  inflating: inputs/datasets_raw/Miscellaneous/68.jpg  \n",
            "  inflating: inputs/datasets_raw/Miscellaneous/69.jpg  \n",
            "  inflating: inputs/datasets_raw/Miscellaneous/7.jpg  \n",
            "  inflating: inputs/datasets_raw/Miscellaneous/70.jpg  \n",
            "  inflating: inputs/datasets_raw/Miscellaneous/71.jpg  \n",
            "  inflating: inputs/datasets_raw/Miscellaneous/72.jpg  \n",
            "  inflating: inputs/datasets_raw/Miscellaneous/73.jpg  \n",
            "  inflating: inputs/datasets_raw/Miscellaneous/74.jpg  \n",
            "  inflating: inputs/datasets_raw/Miscellaneous/8.jpg  \n",
            "  inflating: inputs/datasets_raw/Miscellaneous/9.jpg  \n",
            "  inflating: inputs/datasets_raw/Pink Rot/1.jpg  \n",
            "  inflating: inputs/datasets_raw/Pink Rot/10.jpg  \n",
            "  inflating: inputs/datasets_raw/Pink Rot/11.jpg  \n",
            "  inflating: inputs/datasets_raw/Pink Rot/12.jpg  \n",
            "  inflating: inputs/datasets_raw/Pink Rot/13.jpg  \n",
            "  inflating: inputs/datasets_raw/Pink Rot/14.jpg  \n",
            "  inflating: inputs/datasets_raw/Pink Rot/15.jpg  \n",
            "  inflating: inputs/datasets_raw/Pink Rot/16.jpg  \n",
            "  inflating: inputs/datasets_raw/Pink Rot/17.jpg  \n",
            "  inflating: inputs/datasets_raw/Pink Rot/18.jpg  \n",
            "  inflating: inputs/datasets_raw/Pink Rot/19.jpg  \n",
            "  inflating: inputs/datasets_raw/Pink Rot/2.jpg  \n",
            "  inflating: inputs/datasets_raw/Pink Rot/20.jpg  \n",
            "  inflating: inputs/datasets_raw/Pink Rot/21.jpg  \n",
            "  inflating: inputs/datasets_raw/Pink Rot/22.jpg  \n",
            "  inflating: inputs/datasets_raw/Pink Rot/23.jpg  \n",
            "  inflating: inputs/datasets_raw/Pink Rot/24.jpg  \n",
            "  inflating: inputs/datasets_raw/Pink Rot/25.jpg  \n",
            "  inflating: inputs/datasets_raw/Pink Rot/26.jpg  \n",
            "  inflating: inputs/datasets_raw/Pink Rot/27.jpg  \n",
            "  inflating: inputs/datasets_raw/Pink Rot/28.jpg  \n",
            "  inflating: inputs/datasets_raw/Pink Rot/29.jpg  \n",
            "  inflating: inputs/datasets_raw/Pink Rot/3.jpg  \n",
            "  inflating: inputs/datasets_raw/Pink Rot/30.jpg  \n",
            "  inflating: inputs/datasets_raw/Pink Rot/31.jpg  \n",
            "  inflating: inputs/datasets_raw/Pink Rot/32.jpg  \n",
            "  inflating: inputs/datasets_raw/Pink Rot/33.jpg  \n",
            "  inflating: inputs/datasets_raw/Pink Rot/34.jpg  \n",
            "  inflating: inputs/datasets_raw/Pink Rot/35.jpg  \n",
            "  inflating: inputs/datasets_raw/Pink Rot/36.jpg  \n",
            "  inflating: inputs/datasets_raw/Pink Rot/37.jpg  \n",
            "  inflating: inputs/datasets_raw/Pink Rot/38.jpg  \n",
            "  inflating: inputs/datasets_raw/Pink Rot/39.jpg  \n",
            "  inflating: inputs/datasets_raw/Pink Rot/4.jpg  \n",
            "  inflating: inputs/datasets_raw/Pink Rot/40.jpg  \n",
            "  inflating: inputs/datasets_raw/Pink Rot/41.jpg  \n",
            "  inflating: inputs/datasets_raw/Pink Rot/42.jpg  \n",
            "  inflating: inputs/datasets_raw/Pink Rot/43.jpg  \n",
            "  inflating: inputs/datasets_raw/Pink Rot/44.jpg  \n",
            "  inflating: inputs/datasets_raw/Pink Rot/45.jpg  \n",
            "  inflating: inputs/datasets_raw/Pink Rot/46.jpg  \n",
            "  inflating: inputs/datasets_raw/Pink Rot/47.jpg  \n",
            "  inflating: inputs/datasets_raw/Pink Rot/48.jpg  \n",
            "  inflating: inputs/datasets_raw/Pink Rot/49.jpg  \n",
            "  inflating: inputs/datasets_raw/Pink Rot/5.jpg  \n",
            "  inflating: inputs/datasets_raw/Pink Rot/50.jpg  \n",
            "  inflating: inputs/datasets_raw/Pink Rot/51.jpg  \n",
            "  inflating: inputs/datasets_raw/Pink Rot/52.jpg  \n",
            "  inflating: inputs/datasets_raw/Pink Rot/53.jpg  \n",
            "  inflating: inputs/datasets_raw/Pink Rot/54.jpg  \n",
            "  inflating: inputs/datasets_raw/Pink Rot/55.jpg  \n",
            "  inflating: inputs/datasets_raw/Pink Rot/56.jpg  \n",
            "  inflating: inputs/datasets_raw/Pink Rot/57.jpg  \n",
            "  inflating: inputs/datasets_raw/Pink Rot/6.jpg  \n",
            "  inflating: inputs/datasets_raw/Pink Rot/7.jpg  \n",
            "  inflating: inputs/datasets_raw/Pink Rot/8.jpg  \n",
            "  inflating: inputs/datasets_raw/Pink Rot/9.jpg  \n",
            "rm: cannot remove 'y': No such file or directory\n"
          ]
        }
      ],
      "source": [
        "! unzip {DestinationFolder}/*.zip -d {DestinationFolder} \\\n",
        "  && rm {DestinationFolder}/*.zip \\"
      ]
    },
    {
      "cell_type": "markdown",
      "metadata": {},
      "source": [
        "---"
      ]
    },
    {
      "cell_type": "markdown",
      "metadata": {},
      "source": [
        "# Data Preprocessing and Cleaning"
      ]
    },
    {
      "cell_type": "markdown",
      "metadata": {},
      "source": [
        "Check and remove all non-image files"
      ]
    },
    {
      "cell_type": "code",
      "execution_count": 9,
      "metadata": {},
      "outputs": [
        {
          "name": "stdout",
          "output_type": "stream",
          "text": [
            "Folder: Black Scurf - has 58 image files\n",
            "Folder: Black Scurf - has 0 non-image files\n",
            "Folder: Blackleg - has 60 image files\n",
            "Folder: Blackleg - has 0 non-image files\n",
            "Folder: Common Scab - has 62 image files\n",
            "Folder: Common Scab - has 0 non-image files\n",
            "Folder: Dry Rot - has 60 image files\n",
            "Folder: Dry Rot - has 0 non-image files\n",
            "Folder: Healthy Potatoes - has 80 image files\n",
            "Folder: Healthy Potatoes - has 0 non-image files\n",
            "Folder: Miscellaneous - has 74 image files\n",
            "Folder: Miscellaneous - has 0 non-image files\n",
            "Folder: Pink Rot - has 57 image files\n",
            "Folder: Pink Rot - has 0 non-image files\n"
          ]
        }
      ],
      "source": [
        "def remove_non_image_file(my_data_dir):\n",
        "    image_extension = ('.png', '.jpg', '.jpeg')\n",
        "    folders = os.listdir(my_data_dir)\n",
        "    for folder in folders:\n",
        "        folder_path = os.path.join(my_data_dir, folder)\n",
        "        if os.path.isdir(folder_path):  # Проверка, что это директория\n",
        "            files = os.listdir(folder_path)\n",
        "            non_image_count = 0\n",
        "            image_count = 0\n",
        "            for given_file in files:\n",
        "                file_path = os.path.join(folder_path, given_file)\n",
        "                if not given_file.lower().endswith(image_extension):\n",
        "                    os.remove(file_path)  # Удаление файла, не являющегося изображением\n",
        "                    non_image_count += 1\n",
        "                else:\n",
        "                    image_count += 1\n",
        "            print(f\"Folder: {folder} - has {image_count} image files\")\n",
        "            print(f\"Folder: {folder} - has {non_image_count} non-image files\")\n",
        "        else:\n",
        "            print(f\"{folder_path} is not a directory\")\n",
        "\n",
        "remove_non_image_file(my_data_dir='inputs/datasets_raw/')"
      ]
    },
    {
      "cell_type": "markdown",
      "metadata": {},
      "source": [
        "---"
      ]
    },
    {
      "cell_type": "markdown",
      "metadata": {},
      "source": [
        "# Split data"
      ]
    },
    {
      "cell_type": "markdown",
      "metadata": {},
      "source": [
        "Splitting Image Data into Train, Validation, Test and Miscellaneous Sets "
      ]
    },
    {
      "cell_type": "markdown",
      "metadata": {},
      "source": [
        "This script is designed to manage datasets containing multiple categories of images, each initially stored in separate folders. It systematically organizes these images into dedicated 'train', 'validation', and 'test' folders for the purposes of machine learning model development.\n",
        "\n",
        "The script first checks if the specified target data directory exists. If not, it creates this directory along with necessary subdirectories for each category, excluding the 'Miscellaneous' category.  \n",
        "It's important to note that original image files are moved, not copied, to the new directories. This approach is adopted to avoid data duplication and manage disk space efficiently, altering the original dataset organization.  \n",
        "Each category, except for 'Miscellaneous', is processed and its images are distributed among 'train', 'validation', and 'test' folders based on predefined ratios.  \n",
        "After the images are moved, the script removes the processed source category folders, leaving the original 'Miscellaneous' folder intact in the source directory.  \n",
        "The 'Miscellaneous' category, containing a diverse mix of healthy and diseased potato images, is specifically set aside for the final testing phase of the model. This enables evaluation of the model's performance on a dataset that simulates real-world variability and complexity.  \n",
        "The 'Miscellaneous' dataset remains in its original location throughout the script's execution. It is neither moved nor altered, ensuring its availability for comprehensive final model testing."
      ]
    },
    {
      "cell_type": "code",
      "execution_count": 10,
      "metadata": {},
      "outputs": [],
      "source": [
        "import os\n",
        "import shutil\n",
        "import random\n",
        "\n",
        "def split_train_validation_test_images(source_dir, target_dir, train_set_ratio, validation_set_ratio):\n",
        "    # Check if the target directory exists, create if not\n",
        "    if not os.path.exists(target_dir):\n",
        "        os.makedirs(target_dir, exist_ok=True)\n",
        "\n",
        "    labels = os.listdir(source_dir)  # Get categories in the source folder\n",
        "\n",
        "    # Create folder structure in the target directory\n",
        "    for label in labels:\n",
        "        if label == 'Miscellaneous':  # Skip creating 'Miscellaneous' in train/validation/test\n",
        "            continue\n",
        "\n",
        "        for folder in ['train', 'validation', 'test']:\n",
        "            new_dir = os.path.join(target_dir, folder, label)\n",
        "            os.makedirs(new_dir, exist_ok=True)\n",
        "\n",
        "    for label in labels:\n",
        "        if label == 'Miscellaneous':  # Skip 'Miscellaneous' for splitting\n",
        "            continue\n",
        "\n",
        "        files = os.listdir(os.path.join(source_dir, label))\n",
        "        random.shuffle(files)\n",
        "\n",
        "        train_end = int(len(files) * train_set_ratio)\n",
        "        validation_end = train_end + int(len(files) * validation_set_ratio)\n",
        "\n",
        "        for i, file in enumerate(files):\n",
        "            src_file = os.path.join(source_dir, label, file)\n",
        "\n",
        "            if i < train_end:\n",
        "                dest = os.path.join(target_dir, 'train', label, file)\n",
        "            elif i < validation_end:\n",
        "                dest = os.path.join(target_dir, 'validation', label, file)\n",
        "            else:\n",
        "                dest = os.path.join(target_dir, 'test', label, file)\n",
        "\n",
        "            shutil.move(src_file, dest)\n",
        "        \n",
        "        # Remove processed category folder\n",
        "        shutil.rmtree(os.path.join(source_dir, label))\n",
        "\n",
        "# Source directory with categories\n",
        "source_dir = \"inputs/datasets_raw\"\n",
        "\n",
        "# Target directory for split sets\n",
        "target_dir = \"inputs/datasets_devided\"\n",
        "\n",
        "# Splitting data\n",
        "split_train_validation_test_images(source_dir, target_dir, 0.7, 0.15)"
      ]
    },
    {
      "cell_type": "markdown",
      "metadata": {},
      "source": [
        "Notes  \n",
        "- The training set is divided into a 0.70 ratio of data.  \n",
        "- The validation set is divided into a 0.15 ratio of data.  \n",
        "- The test set is divided into a 0.15 ratio of data.  \n",
        "The decision to allocate 15% each for validation and test sets is driven by the aim to enhance the thoroughness of model evaluation on diverse data and to minimize the risk of overfitting. This approach is particularly vital in projects where model accuracy is critical and where ensuring the model's reliability and generalization capability is a priority."
      ]
    }
  ],
  "metadata": {
    "accelerator": "GPU",
    "colab": {
      "name": "Data Practitioner Jupyter Notebook.ipynb",
      "provenance": [],
      "toc_visible": true
    },
    "interpreter": {
      "hash": "8b8334dab9339717f727a1deaf837b322d7a41c20d15cc86be99a8e69ceec8ce"
    },
    "kernelspec": {
      "display_name": "Python 3.8.12 64-bit ('3.8.12': pyenv)",
      "name": "python3"
    },
    "language_info": {
      "codemirror_mode": {
        "name": "ipython",
        "version": 3
      },
      "file_extension": ".py",
      "mimetype": "text/x-python",
      "name": "python",
      "nbconvert_exporter": "python",
      "pygments_lexer": "ipython3",
      "version": "3.10.12"
    },
    "orig_nbformat": 2
  },
  "nbformat": 4,
  "nbformat_minor": 2
}
